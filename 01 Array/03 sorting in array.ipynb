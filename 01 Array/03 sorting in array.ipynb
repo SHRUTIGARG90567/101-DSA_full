{
 "cells": [
  {
   "cell_type": "markdown",
   "id": "952e70e2",
   "metadata": {},
   "source": [
    "## SELECTION SORT"
   ]
  },
  {
   "cell_type": "code",
   "execution_count": 4,
   "id": "5f0a4344",
   "metadata": {},
   "outputs": [
    {
     "name": "stdout",
     "output_type": "stream",
     "text": [
      "[1, 1, 2, 4, 5, 5, 8]\n"
     ]
    }
   ],
   "source": [
    "array = [1,5,8,2,4,1,5]\n",
    "for i in range(len(array)-1):\n",
    "    for j in range(i+1,len(array),1 ):\n",
    "        if array[j]<array[i]:\n",
    "            temp = array[i]\n",
    "            array[i] = array[j]\n",
    "            array[j] = temp\n",
    "print(array)\n",
    "\n",
    "    \n",
    "    "
   ]
  },
  {
   "cell_type": "markdown",
   "id": "aac67781",
   "metadata": {},
   "source": [
    "## BUBBLE SORT"
   ]
  },
  {
   "cell_type": "code",
   "execution_count": 18,
   "id": "f4552913",
   "metadata": {},
   "outputs": [
    {
     "name": "stdout",
     "output_type": "stream",
     "text": [
      "Original array: [64, 34, 25, 12, 22, 11, 90]\n",
      "Sorted array: [11, 12, 22, 25, 34, 64, 90]\n"
     ]
    }
   ],
   "source": [
    "def bubble_sort(arr):\n",
    "    n = len(arr)\n",
    "\n",
    "    for i in range(n):\n",
    "        # Last i elements are already in place, so we don't need to check them again\n",
    "        for j in range(0, n-i-1):\n",
    "            \n",
    "            \n",
    "            if arr[j] > arr[j+1]:\n",
    "                arr[j], arr[j+1] = arr[j+1], arr[j]\n",
    "\n",
    "# Example usage:\n",
    "if __name__ == \"__main__\":\n",
    "    # Test the bubble_sort function\n",
    "    my_array = [64, 34, 25, 12, 22, 11, 90]\n",
    "    print(\"Original array:\", my_array)\n",
    "    bubble_sort(my_array)\n",
    "    print(\"Sorted array:\", my_array)\n"
   ]
  },
  {
   "cell_type": "markdown",
   "id": "155a7aec",
   "metadata": {},
   "source": [
    "## insertion sort "
   ]
  },
  {
   "cell_type": "code",
   "execution_count": 24,
   "id": "02734825",
   "metadata": {},
   "outputs": [
    {
     "name": "stdout",
     "output_type": "stream",
     "text": [
      "[11, 12, 22, 25, 34, 64, 90]\n"
     ]
    }
   ],
   "source": [
    "my_array = [64, 34, 25, 12, 22, 11, 90]\n",
    "key = 0\n",
    "for i in range(1, len(my_array)):\n",
    "    key = my_array[i]\n",
    "    j = i-1\n",
    "    while j>=0 and key<my_array[j]:\n",
    "        my_array[j+1]= my_array[j]\n",
    "        j-=1\n",
    "    my_array[j+1] = key\n",
    "   \n",
    "    \n",
    "print(my_array)\n",
    "    \n"
   ]
  },
  {
   "cell_type": "markdown",
   "id": "630469d8",
   "metadata": {},
   "source": [
    "## question on array"
   ]
  },
  {
   "cell_type": "code",
   "execution_count": 25,
   "id": "0963d0a8",
   "metadata": {},
   "outputs": [
    {
     "name": "stdout",
     "output_type": "stream",
     "text": [
      "6\n"
     ]
    }
   ],
   "source": [
    "# max value in array\n",
    "array = [1,5,3,4,3,5,6]\n",
    "nx = 0\n",
    "for i in range(len(array)):\n",
    "    nx = max(nx, array[i])\n",
    "print(nx)\n",
    "    "
   ]
  },
  {
   "cell_type": "markdown",
   "id": "8bd8a63f",
   "metadata": {},
   "source": [
    "## subarray "
   ]
  },
  {
   "cell_type": "code",
   "execution_count": 27,
   "id": "c02971a7",
   "metadata": {},
   "outputs": [],
   "source": [
    "# the are the continious part of the array\n",
    "# n^c2 +n = n*(n+1)\\2"
   ]
  },
  {
   "cell_type": "markdown",
   "id": "4056564d",
   "metadata": {},
   "source": [
    "## subsequence"
   ]
  },
  {
   "cell_type": "code",
   "execution_count": 28,
   "id": "8e1b302d",
   "metadata": {},
   "outputs": [],
   "source": [
    "# it is the sequence that can be derived an array by  selecting zero or more elements without changing the \n",
    "# prder of the remaining element  2^n"
   ]
  },
  {
   "cell_type": "markdown",
   "id": "a3a2a7ae",
   "metadata": {},
   "source": [
    "## question\n",
    "\n",
    "    "
   ]
  },
  {
   "cell_type": "code",
   "execution_count": 33,
   "id": "d9edce4e",
   "metadata": {},
   "outputs": [
    {
     "name": "stdout",
     "output_type": "stream",
     "text": [
      "[1, 6, 9, 13, 5, 8, 12, 3, 7, 4]\n"
     ]
    }
   ],
   "source": [
    "# sum of all the sub array\n",
    "\n",
    "array = [1,5,3,4]\n",
    "my_arr = []\n",
    "add = 0\n",
    "for i in range(len(array)): \n",
    "    add = 0\n",
    "    for j in range(i, len(array)):\n",
    "        if i == j:\n",
    "            my_arr.append(array[i])\n",
    "        else:\n",
    "            if add>0:\n",
    "                add = add + array[j]\n",
    "                my_arr.append(add)\n",
    "            else:\n",
    "                my_arr.append(array[i]+array[j])\n",
    "                add = array[i]+array[j]\n",
    "            \n",
    "            \n",
    "print(my_arr)\n",
    "            \n",
    "        "
   ]
  },
  {
   "cell_type": "code",
   "execution_count": 35,
   "id": "462eefe3",
   "metadata": {},
   "outputs": [
    {
     "name": "stdout",
     "output_type": "stream",
     "text": [
      "1\n",
      "6\n",
      "9\n",
      "13\n",
      "5\n",
      "8\n",
      "12\n",
      "3\n",
      "7\n",
      "4\n",
      "[]\n"
     ]
    }
   ],
   "source": [
    "# add all the sub array length\n",
    "array = [1,5,3,4]\n",
    "my_arr = []\n",
    "add = 0\n",
    "for i in range(len(array)): \n",
    "    add = 0\n",
    "    for j in range(i, len(array)):\n",
    "        add+=array[j]\n",
    "        print(add)\n",
    "       \n",
    "            \n",
    "            \n",
    "print(my_arr)\n",
    "            \n",
    "        "
   ]
  },
  {
   "cell_type": "code",
   "execution_count": 38,
   "id": "a2a2dba3",
   "metadata": {},
   "outputs": [
    {
     "name": "stdout",
     "output_type": "stream",
     "text": [
      "5\n"
     ]
    }
   ],
   "source": [
    "# find the maximum len of subarray\n",
    "\n",
    "\n",
    "\n",
    "array = [10,2,4,6,8,10,11]\n",
    "N_array = []\n",
    "l = 2\n",
    "max_val= 0\n",
    "diff = array[1] - array[0]\n",
    "for i in range(2,len(array)):\n",
    "    n_diff = array[i] - array[i-1]\n",
    "    if diff == n_diff:\n",
    "        l+=1\n",
    "    else:\n",
    "        N_array.append(l)\n",
    "        l=2\n",
    "        diff = n_diff\n",
    "max_val = max(N_array)\n",
    "print(max_val)\n",
    "\n",
    "\n",
    "    \n",
    "        \n"
   ]
  },
  {
   "cell_type": "code",
   "execution_count": 42,
   "id": "680ecf47",
   "metadata": {},
   "outputs": [
    {
     "name": "stdout",
     "output_type": "stream",
     "text": [
      "2\n",
      "3\n"
     ]
    }
   ],
   "source": [
    "# recording breaking day\n",
    "array = [1,2,0,3,0,0,2,2]\n",
    "arr = []\n",
    "\n",
    "for i in range(len(array)-1):\n",
    "    arr.append(array[i]) \n",
    "    if array[i] > array[i+1] and max(arr) == array[i]:\n",
    "        print(array[i])\n",
    "    \n",
    "        \n",
    "        "
   ]
  },
  {
   "cell_type": "code",
   "execution_count": 44,
   "id": "75e8c9ef",
   "metadata": {},
   "outputs": [
    {
     "name": "stdout",
     "output_type": "stream",
     "text": [
      "1\n"
     ]
    }
   ],
   "source": [
    "array = [1,5,3,4,3,5,6]\n",
    "n_arra = [-1]*len(array)\n",
    "min_val = float('inf')\n",
    "\n",
    "for i in range(len(array)):\n",
    "    if n_arra[array[i]] ==-1:\n",
    "        n_arra[array[i]] = i\n",
    "    else:\n",
    "        min_val = min(n_arra[array[i]],min_val)\n",
    "print(min_val)\n",
    "    \n"
   ]
  },
  {
   "cell_type": "code",
   "execution_count": 53,
   "id": "fe734cad",
   "metadata": {},
   "outputs": [],
   "source": [
    "array = [1,2,3,7,5]\n",
    "s = 10\n",
    "i = 0\n",
    "add = 0\n",
    "for j in range(len(array)):\n",
    "    if add+array[j] < s:\n",
    "        add += array[j]\n",
    "        if add == s:\n",
    "            print(i ,\"to \" ,j,\"is equal to \", s)\n",
    "    else:\n",
    "        add+=array[j]\n",
    "        if add > s:\n",
    "             add -= array[i]\n",
    "             i+=1\n",
    "        if add == s:\n",
    "            print(i ,\"to \" ,j,\"is equal to \", s)\n",
    "            \n",
    "            \n",
    "\n",
    "       \n",
    "\n",
    "\n"
   ]
  },
  {
   "cell_type": "code",
   "execution_count": 63,
   "id": "569984db",
   "metadata": {},
   "outputs": [
    {
     "name": "stdout",
     "output_type": "stream",
     "text": [
      "4\n"
     ]
    }
   ],
   "source": [
    "# smallest positive missing number\n",
    "\n",
    "array = [0,-9,1,2,-4,5,3]\n",
    "n_arr =[0]*len(array)\n",
    "\n",
    "for i in range(len(array)):\n",
    "    if array[i]>= 0:\n",
    "        n_arr[array[i]] = 1\n",
    "for j in range(len(array)):\n",
    "    if n_arr[j] == 0:\n",
    "        print(j)\n",
    "        break"
   ]
  },
  {
   "cell_type": "code",
   "execution_count": 73,
   "id": "ebd0d437",
   "metadata": {},
   "outputs": [
    {
     "name": "stdout",
     "output_type": "stream",
     "text": [
      "13\n"
     ]
    }
   ],
   "source": [
    "# finding maximum subarray length\n",
    "array = [-1,4,7,2]\n",
    "add = 0\n",
    "max_val = 0\n",
    "\n",
    "for i in range(len(array)):\n",
    "    add += array[i]\n",
    "    if add <0:\n",
    "        add = 0\n",
    "    max_val = max(max_val, add)  \n",
    "\n",
    "print(max_val)\n",
    "\n"
   ]
  },
  {
   "cell_type": "code",
   "execution_count": 75,
   "id": "18658ed0",
   "metadata": {},
   "outputs": [
    {
     "name": "stdout",
     "output_type": "stream",
     "text": [
      "16\n"
     ]
    }
   ],
   "source": [
    "# maximum circular subarray length\n",
    "array = [4,-4,6,-6,10,-11,12]\n",
    "add = 0\n",
    "max_val = 0\n",
    "array.append(array[0])\n",
    "for i in range(len(array)):\n",
    "    add += array[i]\n",
    "    if add <0:\n",
    "        add = 0\n",
    "    max_val = max(max_val, add)  \n",
    "\n",
    "print(max_val)\n",
    "\n"
   ]
  },
  {
   "cell_type": "code",
   "execution_count": 85,
   "id": "6094ca01",
   "metadata": {},
   "outputs": [
    {
     "name": "stdout",
     "output_type": "stream",
     "text": [
      "True\n"
     ]
    }
   ],
   "source": [
    "# if there any element that thier sum is equal to s\n",
    "array = [2,3,5,6,1]\n",
    "s = 6\n",
    "for i in range(len(array)):\n",
    "    for j in range(i+1, len(array)):\n",
    "        if array[i] + array[j] == s:\n",
    "            print(True)\n",
    "  \n"
   ]
  },
  {
   "cell_type": "code",
   "execution_count": null,
   "id": "79d2c949",
   "metadata": {},
   "outputs": [],
   "source": []
  },
  {
   "cell_type": "code",
   "execution_count": null,
   "id": "8a682db9",
   "metadata": {},
   "outputs": [],
   "source": []
  }
 ],
 "metadata": {
  "kernelspec": {
   "display_name": "Python 3 (ipykernel)",
   "language": "python",
   "name": "python3"
  },
  "language_info": {
   "codemirror_mode": {
    "name": "ipython",
    "version": 3
   },
   "file_extension": ".py",
   "mimetype": "text/x-python",
   "name": "python",
   "nbconvert_exporter": "python",
   "pygments_lexer": "ipython3",
   "version": "3.10.9"
  }
 },
 "nbformat": 4,
 "nbformat_minor": 5
}
