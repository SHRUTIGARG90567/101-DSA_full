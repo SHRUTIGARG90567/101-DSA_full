{
 "cells": [
  {
   "cell_type": "code",
   "execution_count": 3,
   "id": "6bde8fdc",
   "metadata": {},
   "outputs": [],
   "source": [
    "array=[20,30,40,50]"
   ]
  },
  {
   "cell_type": "code",
   "execution_count": 7,
   "id": "2fa9a6df",
   "metadata": {},
   "outputs": [
    {
     "name": "stdout",
     "output_type": "stream",
     "text": [
      "enter the element333333335\n",
      "['333333335']\n"
     ]
    }
   ],
   "source": [
    "# taking array form user\n",
    "array = input(\"enter the element\")\n",
    "aray = array.split()\n",
    "print(aray)"
   ]
  },
  {
   "cell_type": "code",
   "execution_count": 8,
   "id": "cdca59d4",
   "metadata": {},
   "outputs": [],
   "source": [
    "# taking the element from user and finding the max and min element "
   ]
  },
  {
   "cell_type": "code",
   "execution_count": 15,
   "id": "379fe38c",
   "metadata": {},
   "outputs": [
    {
     "name": "stdout",
     "output_type": "stream",
     "text": [
      "enter the array term234571\n",
      "7\n",
      "1\n"
     ]
    }
   ],
   "source": [
    "array = input(\"enter the array term\")\n",
    "#array = array.split()\n",
    "print(max(array))\n",
    "print(min(array))"
   ]
  },
  {
   "cell_type": "code",
   "execution_count": 12,
   "id": "d652bdd1",
   "metadata": {},
   "outputs": [
    {
     "name": "stdout",
     "output_type": "stream",
     "text": [
      "Maximum element: 9\n",
      "Minimum element: 1\n"
     ]
    }
   ],
   "source": [
    "# Example array\n",
    "array = [5, 3, 9, 1, 7, 2]\n",
    "\n",
    "# Printing the maximum and minimum elements\n",
    "maximum = max(array)\n",
    "minimum = min(array)\n",
    "\n",
    "print(\"Maximum element:\", maximum)\n",
    "print(\"Minimum element:\", minimum)\n"
   ]
  },
  {
   "cell_type": "markdown",
   "id": "eb37573f",
   "metadata": {},
   "source": [
    "##LINEAR SEARCH"
   ]
  },
  {
   "cell_type": "code",
   "execution_count": 16,
   "id": "d68eea61",
   "metadata": {},
   "outputs": [],
   "source": [
    "# searching the element in array "
   ]
  },
  {
   "cell_type": "code",
   "execution_count": 26,
   "id": "45fb3ebe",
   "metadata": {},
   "outputs": [
    {
     "name": "stdout",
     "output_type": "stream",
     "text": [
      "enter the element of the array23457\n",
      "enter the elemnt to search4\n",
      "4 2\n"
     ]
    }
   ],
   "source": [
    "\n",
    "\n",
    "def linear_search( array, key):\n",
    "    for i in range(len(array)):\n",
    "        if (array[i]== key):\n",
    "            \n",
    "            return i\n",
    "    return-1\n",
    "array = input(\"enter the element of the array\")\n",
    "key = input(\"enter the elemnt to search\")\n",
    "\n",
    "result = linear_search(array, key)\n",
    "\n",
    "if (result  != -1):\n",
    "    print(key, result)\n",
    "else:\n",
    "    print(key, \"result not found\")\n"
   ]
  },
  {
   "cell_type": "code",
   "execution_count": 28,
   "id": "53c525c5",
   "metadata": {},
   "outputs": [],
   "source": [
    "# here the time complexcity is equal to O(n)"
   ]
  },
  {
   "cell_type": "markdown",
   "id": "0ec56a38",
   "metadata": {},
   "source": [
    "## BINARY SEARCH"
   ]
  },
  {
   "cell_type": "code",
   "execution_count": 40,
   "id": "245db2b3",
   "metadata": {},
   "outputs": [
    {
     "name": "stdout",
     "output_type": "stream",
     "text": [
      "enter the element of the array3 4 5 6 7\n",
      "enter the elemnt to search6\n",
      "6 3\n"
     ]
    }
   ],
   "source": [
    "def binary_search(array, key):\n",
    "    s = 0\n",
    "    e = len(array) -1\n",
    "    while(s<=e):\n",
    "        mid = (s+e)//2\n",
    "        if(array[mid] == key):\n",
    "            return mid\n",
    "        elif(array[mid]>key):\n",
    "            e= mid-1\n",
    "        else:\n",
    "            s = mid+1\n",
    "    return -1\n",
    "\n",
    "array = input(\"enter the element of the array\")\n",
    "array = list(map(int, array.split()))\n",
    "key = int(input(\"enter the elemnt to search\"))\n",
    "\n",
    "result = binary_search(array, key)\n",
    "\n",
    "if (result  != -1):\n",
    "    print(key, result)\n",
    "else:\n",
    "    print(key, \"result not found\")\n"
   ]
  },
  {
   "cell_type": "code",
   "execution_count": 41,
   "id": "27b86cb4",
   "metadata": {},
   "outputs": [],
   "source": [
    "# binary search time complexity is O(logn)"
   ]
  },
  {
   "cell_type": "code",
   "execution_count": null,
   "id": "5403da80",
   "metadata": {},
   "outputs": [],
   "source": []
  }
 ],
 "metadata": {
  "kernelspec": {
   "display_name": "Python 3 (ipykernel)",
   "language": "python",
   "name": "python3"
  },
  "language_info": {
   "codemirror_mode": {
    "name": "ipython",
    "version": 3
   },
   "file_extension": ".py",
   "mimetype": "text/x-python",
   "name": "python",
   "nbconvert_exporter": "python",
   "pygments_lexer": "ipython3",
   "version": "3.10.9"
  }
 },
 "nbformat": 4,
 "nbformat_minor": 5
}
