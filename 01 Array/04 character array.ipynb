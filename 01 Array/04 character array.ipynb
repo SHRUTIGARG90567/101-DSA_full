{
 "cells": [
  {
   "cell_type": "code",
   "execution_count": 2,
   "id": "9388d68c",
   "metadata": {},
   "outputs": [
    {
     "name": "stdout",
     "output_type": "stream",
     "text": [
      "a\n",
      "p\n",
      "p\n",
      "l\n",
      "e\n"
     ]
    }
   ],
   "source": [
    "string = 'apple'\n",
    "array = list(string)\n",
    "for i in range(len(array)):\n",
    "    print(array[i])"
   ]
  },
  {
   "cell_type": "code",
   "execution_count": 7,
   "id": "8cfe0572",
   "metadata": {},
   "outputs": [
    {
     "name": "stdout",
     "output_type": "stream",
     "text": [
      "i\n",
      "am\n",
      "a\n",
      "greate\n",
      "dancer\n",
      "of\n",
      "the\n",
      "school\n"
     ]
    },
    {
     "ename": "IndexError",
     "evalue": "list index out of range",
     "output_type": "error",
     "traceback": [
      "\u001b[1;31m---------------------------------------------------------------------------\u001b[0m",
      "\u001b[1;31mIndexError\u001b[0m                                Traceback (most recent call last)",
      "Cell \u001b[1;32mIn[7], line 4\u001b[0m\n\u001b[0;32m      2\u001b[0m array \u001b[38;5;241m=\u001b[39m string\u001b[38;5;241m.\u001b[39msplit(\u001b[38;5;124m\"\u001b[39m\u001b[38;5;124m \u001b[39m\u001b[38;5;124m\"\u001b[39m)\n\u001b[0;32m      3\u001b[0m \u001b[38;5;28;01mfor\u001b[39;00m i \u001b[38;5;129;01min\u001b[39;00m \u001b[38;5;28mrange\u001b[39m(\u001b[38;5;28mlen\u001b[39m(string)\u001b[38;5;241m-\u001b[39m\u001b[38;5;241m1\u001b[39m):\n\u001b[1;32m----> 4\u001b[0m     \u001b[38;5;28mprint\u001b[39m(\u001b[43marray\u001b[49m\u001b[43m[\u001b[49m\u001b[43mi\u001b[49m\u001b[43m]\u001b[49m)\n",
      "\u001b[1;31mIndexError\u001b[0m: list index out of range"
     ]
    }
   ],
   "source": [
    "string = \"i am a greate dancer of the school\"\n",
    "array = string.split(\" \")\n",
    "for i in range(len(string)-1):\n",
    "    print(array[i])"
   ]
  },
  {
   "cell_type": "markdown",
   "id": "8627130b",
   "metadata": {},
   "source": [
    "## TO TAKE INPUT STRING IN ARRAY"
   ]
  },
  {
   "cell_type": "code",
   "execution_count": 13,
   "id": "af2b97b8",
   "metadata": {},
   "outputs": [
    {
     "name": "stdout",
     "output_type": "stream",
     "text": [
      "enter the no of element2\n",
      "enter the elementthe\n",
      "enter the elementsun\n",
      "the\n",
      "sun\n"
     ]
    }
   ],
   "source": [
    "array = []\n",
    "n = int(input(\"enter the no of element\"))\n",
    "for i in range(n):\n",
    "    strng_input = input(\"enter the element\")\n",
    "    array.append(strng_input)\n",
    "    \n",
    "for i in range(len(array)):\n",
    "    print(array[i])"
   ]
  },
  {
   "cell_type": "code",
   "execution_count": 30,
   "id": "a439d446",
   "metadata": {},
   "outputs": [],
   "source": [
    "## to check pelindrom"
   ]
  },
  {
   "cell_type": "code",
   "execution_count": 29,
   "id": "2b1172d8",
   "metadata": {},
   "outputs": [
    {
     "name": "stdout",
     "output_type": "stream",
     "text": [
      "enter the no of element4\n",
      "enter the elements\n",
      "enter the elementh\n",
      "enter the elementu\n",
      "enter the elementb\n",
      "it is not a pilindrom\n"
     ]
    }
   ],
   "source": [
    "array = []\n",
    "n = int(input(\"enter the no of element\"))\n",
    "\n",
    "for i in range(n):\n",
    "    input_val = input(\"enter the element\")\n",
    "    array.append(input_val)\n",
    "\n",
    "\n",
    "m = len(array)-1   \n",
    "for i in range(0,m):\n",
    "    if array[i]!= array[m]:\n",
    "        print(\"it is not a pilindrom\")\n",
    "        break\n",
    "    else:\n",
    "        m-=1        \n",
    "    print('it is a pilindrom')"
   ]
  },
  {
   "cell_type": "code",
   "execution_count": 31,
   "id": "b6d8f1ab",
   "metadata": {},
   "outputs": [],
   "source": [
    "# check the largest word in the sentence"
   ]
  },
  {
   "cell_type": "code",
   "execution_count": 35,
   "id": "b3ad6e01",
   "metadata": {},
   "outputs": [
    {
     "name": "stdout",
     "output_type": "stream",
     "text": [
      "enter the no of element in the array3\n",
      "enter the worddo\n",
      "enter the wordor\n",
      "enter the worddie\n"
     ]
    },
    {
     "data": {
      "text/plain": [
       "3"
      ]
     },
     "execution_count": 35,
     "metadata": {},
     "output_type": "execute_result"
    }
   ],
   "source": [
    "arr_sen = []\n",
    "arr_word = []\n",
    "n = int(input(\"enter the no of element in the array\"))\n",
    "for i in range(n):\n",
    "    input_val = input(\"enter the word\")\n",
    "    arr_sen.append(input_val)\n",
    "    m = len(input_val)\n",
    "    l=0\n",
    "    for i in range(m):\n",
    "        l+=1\n",
    "    arr_word.append(l)\n",
    "max(arr_word)"
   ]
  },
  {
   "cell_type": "code",
   "execution_count": 40,
   "id": "b37788ae",
   "metadata": {},
   "outputs": [
    {
     "name": "stdout",
     "output_type": "stream",
     "text": [
      "10\n"
     ]
    }
   ],
   "source": [
    "array = []\n",
    "string = \"shruti will get leat twelvelack\"\n",
    "m = list(string)\n",
    "l = 0\n",
    "for i in range(len(m)):\n",
    "    if m[i] == \" \":\n",
    "        array.append(l)\n",
    "        l=0\n",
    "    else:\n",
    "        l+=1\n",
    "array.append(l)   \n",
    "print(max(array))"
   ]
  },
  {
   "cell_type": "code",
   "execution_count": null,
   "id": "ec7a79ab",
   "metadata": {},
   "outputs": [],
   "source": []
  }
 ],
 "metadata": {
  "kernelspec": {
   "display_name": "Python 3 (ipykernel)",
   "language": "python",
   "name": "python3"
  },
  "language_info": {
   "codemirror_mode": {
    "name": "ipython",
    "version": 3
   },
   "file_extension": ".py",
   "mimetype": "text/x-python",
   "name": "python",
   "nbconvert_exporter": "python",
   "pygments_lexer": "ipython3",
   "version": "3.10.9"
  }
 },
 "nbformat": 4,
 "nbformat_minor": 5
}
