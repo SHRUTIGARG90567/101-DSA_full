{
 "cells": [
  {
   "cell_type": "code",
   "execution_count": null,
   "id": "ed61a6ab",
   "metadata": {},
   "outputs": [],
   "source": []
  },
  {
   "cell_type": "code",
   "execution_count": 1,
   "id": "9d4f5c13",
   "metadata": {},
   "outputs": [
    {
     "name": "stdout",
     "output_type": "stream",
     "text": [
      "eneter the string i have to be a good programmer\n"
     ]
    }
   ],
   "source": [
    "string = input(\"eneter the string \")"
   ]
  },
  {
   "cell_type": "code",
   "execution_count": 2,
   "id": "612db29b",
   "metadata": {},
   "outputs": [
    {
     "name": "stdout",
     "output_type": "stream",
     "text": [
      "i have to be a good programmer\n"
     ]
    }
   ],
   "source": [
    "print(string)"
   ]
  },
  {
   "cell_type": "code",
   "execution_count": 3,
   "id": "ad07139b",
   "metadata": {},
   "outputs": [],
   "source": [
    "# diffrent ways to declare a string"
   ]
  },
  {
   "cell_type": "code",
   "execution_count": 6,
   "id": "e124fd70",
   "metadata": {},
   "outputs": [],
   "source": [
    "string = \" i am the best\"\n",
    "al = \" i shruti garg\"\n"
   ]
  },
  {
   "cell_type": "code",
   "execution_count": 5,
   "id": "b48f33f4",
   "metadata": {},
   "outputs": [
    {
     "name": "stdout",
     "output_type": "stream",
     "text": [
      " i am the best\n"
     ]
    }
   ],
   "source": [
    "print(string)"
   ]
  },
  {
   "cell_type": "code",
   "execution_count": 7,
   "id": "f10f0ddc",
   "metadata": {},
   "outputs": [
    {
     "name": "stdout",
     "output_type": "stream",
     "text": [
      " i am the best i shruti garg\n"
     ]
    }
   ],
   "source": [
    "print(string + al)"
   ]
  },
  {
   "cell_type": "code",
   "execution_count": 9,
   "id": "973cb096",
   "metadata": {},
   "outputs": [
    {
     "name": "stdout",
     "output_type": "stream",
     "text": [
      "m\n"
     ]
    }
   ],
   "source": [
    "print(string[4])"
   ]
  },
  {
   "cell_type": "code",
   "execution_count": 13,
   "id": "0740854f",
   "metadata": {},
   "outputs": [
    {
     "name": "stdout",
     "output_type": "stream",
     "text": [
      "2\n"
     ]
    }
   ],
   "source": [
    "string = \"hello world\"\n",
    "count = string.count(\"o\")\n",
    "print(count)  # Output: 2\n"
   ]
  },
  {
   "cell_type": "code",
   "execution_count": 17,
   "id": "bf1de852",
   "metadata": {},
   "outputs": [
    {
     "name": "stdout",
     "output_type": "stream",
     "text": [
      "4\n"
     ]
    }
   ],
   "source": [
    "find = string.find(\"o\")\n",
    "print(find)"
   ]
  },
  {
   "cell_type": "code",
   "execution_count": 20,
   "id": "80a03ca7",
   "metadata": {},
   "outputs": [
    {
     "name": "stdout",
     "output_type": "stream",
     "text": [
      "False\n"
     ]
    }
   ],
   "source": [
    "empty = string.isupper()\n",
    "print(empty)"
   ]
  },
  {
   "cell_type": "code",
   "execution_count": 21,
   "id": "b95367b5",
   "metadata": {},
   "outputs": [
    {
     "name": "stdout",
     "output_type": "stream",
     "text": [
      "hello\n"
     ]
    }
   ],
   "source": [
    "string = \"HELLO\"\n",
    "lower_string = string.lower()\n",
    "print(lower_string)"
   ]
  },
  {
   "cell_type": "code",
   "execution_count": null,
   "id": "a33b2017",
   "metadata": {},
   "outputs": [],
   "source": []
  }
 ],
 "metadata": {
  "kernelspec": {
   "display_name": "Python 3 (ipykernel)",
   "language": "python",
   "name": "python3"
  },
  "language_info": {
   "codemirror_mode": {
    "name": "ipython",
    "version": 3
   },
   "file_extension": ".py",
   "mimetype": "text/x-python",
   "name": "python",
   "nbconvert_exporter": "python",
   "pygments_lexer": "ipython3",
   "version": "3.10.9"
  }
 },
 "nbformat": 4,
 "nbformat_minor": 5
}
