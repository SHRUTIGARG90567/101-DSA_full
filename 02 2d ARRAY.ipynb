{
 "cells": [
  {
   "cell_type": "markdown",
   "id": "e02c5d82",
   "metadata": {},
   "source": [
    "## declaration of 2d array"
   ]
  },
  {
   "cell_type": "code",
   "execution_count": 1,
   "id": "3103d7ec",
   "metadata": {},
   "outputs": [
    {
     "name": "stdout",
     "output_type": "stream",
     "text": [
      "[[0, 0, 0], [0, 0, 0], [0, 0, 0]]\n"
     ]
    }
   ],
   "source": [
    "rows = 3\n",
    "cols = 3\n",
    "two_d_array = [[0 for _ in range(rows)]for _ in range(cols)]\n",
    "\n",
    "print(two_d_array)"
   ]
  },
  {
   "cell_type": "code",
   "execution_count": 2,
   "id": "4a64d367",
   "metadata": {},
   "outputs": [
    {
     "name": "stdout",
     "output_type": "stream",
     "text": [
      "[[0, 0, 0], [0, 0, 0], [0, 0, 0]]\n"
     ]
    }
   ],
   "source": [
    "# Method 2: Using list comprehension\n",
    "array = []\n",
    "rows , cols= 3 , 3\n",
    "\n",
    "for i in range(rows):\n",
    "    col = []\n",
    "    for j in range(cols):\n",
    "        col.append(0)\n",
    "    array.append(col)\n",
    "print(array)\n"
   ]
  },
  {
   "cell_type": "markdown",
   "id": "f13310ca",
   "metadata": {},
   "source": [
    "## for taking input in matrix\n"
   ]
  },
  {
   "cell_type": "code",
   "execution_count": 3,
   "id": "cbced4a5",
   "metadata": {},
   "outputs": [
    {
     "name": "stdout",
     "output_type": "stream",
     "text": [
      "enter the no of rows2\n",
      "enter the no of columns2\n",
      "2\n",
      "2\n",
      "2\n",
      "2\n",
      "2 2 \n",
      "2 2 \n"
     ]
    }
   ],
   "source": [
    "R = int(input(\"enter the no of rows\"))\n",
    "C = int(input(\"enter the no of columns\"))\n",
    "matix = []\n",
    "\n",
    "for i in range(R):\n",
    "    a = []\n",
    "    for j in range(C):\n",
    "        a.append(int(input()))\n",
    "    matix.append(a)\n",
    "    \n",
    "for i in range(R):\n",
    "\tfor j in range(C):\n",
    "\t\tprint(matrix[i][j], end = \" \")\n",
    "\tprint()\n",
    "\n",
    "\n",
    "        "
   ]
  },
  {
   "cell_type": "code",
   "execution_count": 4,
   "id": "ad3c9043",
   "metadata": {},
   "outputs": [
    {
     "name": "stdout",
     "output_type": "stream",
     "text": [
      "Enter the number of rows:2\n",
      "Enter the number of columns:2\n",
      "Enter the entries rowwise:\n",
      "1\n",
      "2\n",
      "3\n",
      "4\n",
      "1 2 \n",
      "3 4 \n"
     ]
    }
   ],
   "source": [
    "# A basic code for matrix input from user\n",
    "\n",
    "R = int(input(\"Enter the number of rows:\"))\n",
    "C = int(input(\"Enter the number of columns:\"))\n",
    "\n",
    "# Initialize matrix\n",
    "matrix = []\n",
    "print(\"Enter the entries rowwise:\")\n",
    "\n",
    "# For user input\n",
    "for i in range(R):\t\t # A for loop for row entries\n",
    "\ta =[]\n",
    "\tfor j in range(C):\t # A for loop for column entries\n",
    "\t\ta.append(int(input()))\n",
    "\tmatrix.append(a)\n",
    "\n",
    "# For printing the matrix\n",
    "for i in range(R):\n",
    "\tfor j in range(C):\n",
    "\t\tprint(matrix[i][j], end = \" \")\n",
    "\tprint()\n"
   ]
  },
  {
   "cell_type": "markdown",
   "id": "ed2c21e7",
   "metadata": {},
   "source": [
    "## question "
   ]
  },
  {
   "cell_type": "code",
   "execution_count": 5,
   "id": "089986a5",
   "metadata": {},
   "outputs": [
    {
     "name": "stdout",
     "output_type": "stream",
     "text": [
      "enter the no of rows2\n",
      "enter the no of columns2\n",
      "enter the element need to search3\n",
      "1\n",
      "2\n",
      "3\n",
      "4\n"
     ]
    }
   ],
   "source": [
    "# searching an element in the matrix\n",
    "\n",
    "R = int(input(\"enter the no of rows\"))\n",
    "C = int(input(\"enter the no of columns\"))\n",
    "M = int(input(\"enter the element need to search\"))\n",
    "matrix = []\n",
    "# for takeing the element\n",
    "for i in range(R):\n",
    "    a = []\n",
    "    for j in range(C):\n",
    "        a.append(int(input()))\n",
    "        matrix.append(a)\n",
    "        \n",
    "for i in range(R):\n",
    "    for j in range(C):\n",
    "        if matrix[i][j] == M:\n",
    "            print(f\"Element {M} found at row {i+1}, column {j+1}\")\n",
    "            found = True\n",
    "            break\n",
    "    \n",
    "    \n",
    "    "
   ]
  },
  {
   "cell_type": "code",
   "execution_count": 6,
   "id": "7f2dadf3",
   "metadata": {},
   "outputs": [
    {
     "name": "stdout",
     "output_type": "stream",
     "text": [
      "Element found at index: [1 2]\n"
     ]
    }
   ],
   "source": [
    "# Python code for the above approach\n",
    "def linearSearch (arr, target):\n",
    "\tfor i in range(len(arr)):\n",
    "\t\tfor j in range(len(arr[i])):\n",
    "\t\t\tif (arr[i][j] == target):\n",
    "\t\t\t\treturn [i, j]\n",
    "\treturn [-1, -1]\n",
    "\n",
    "# Driver code\n",
    "arr = [[3, 12, 9], [5, 2, 89], [90, 45, 22]]\n",
    "target = 89\n",
    "ans = linearSearch(arr, target)\n",
    "print(f\"Element found at index: [{ans[0]} {ans[1]}]\")\n",
    "\n",
    "# This code is contributed by Saurabh Jaiswal\n",
    "\n"
   ]
  },
  {
   "cell_type": "code",
   "execution_count": 8,
   "id": "4c78f457",
   "metadata": {},
   "outputs": [
    {
     "name": "stdout",
     "output_type": "stream",
     "text": [
      "enter the row3\n",
      "enter the column3\n",
      "1\n",
      "2\n",
      "3\n",
      "4\n",
      "5\n",
      "6\n",
      "7\n",
      "8\n",
      "9\n",
      "1\n",
      "2\n",
      "3\n"
     ]
    }
   ],
   "source": [
    "# spiral loop\n",
    "\n",
    "R = int(input(\"enter the row\"))\n",
    "C = int(input(\"enter the column\"))\n",
    "matrix = []\n",
    "\n",
    "for i in range(R):\n",
    "    a = []\n",
    "    for j in range(C):\n",
    "        a.append(int(input()))\n",
    "        matrix.append(a)\n",
    "        \n",
    "row_start = 0\n",
    "row_end = R-1\n",
    "column_start = 0\n",
    "column_end = C-1\n",
    "\n",
    "while row_start<row_end and column_start< column_end:\n",
    "    for j in range(column_start,column_end):\n",
    "        print(matrix[row_start][j])\n",
    "    row_start +=1\n",
    "    for i in range(row_start,row_end):\n",
    "        print(matrix[i][column_end])\n",
    "    column_end -=1\n",
    "    for j in range(column_end,column_start,-1):\n",
    "        print(matrix[row_end][j])\n",
    "    row_end -=1\n",
    "    for i in range(row_start,row_end,-1):\n",
    "        print(matrix[i][column_start])\n",
    "    column_start +=1\n",
    "    "
   ]
  },
  {
   "cell_type": "code",
   "execution_count": 10,
   "id": "5e60cd1b",
   "metadata": {},
   "outputs": [
    {
     "name": "stdout",
     "output_type": "stream",
     "text": [
      "[1, 2, 3, 6, 9, 8, 7, 4, 5]\n"
     ]
    }
   ],
   "source": [
    "def spiral_loop_2d_array(arr):\n",
    "    if not arr:\n",
    "        return []\n",
    "\n",
    "    result = []\n",
    "    rows, cols = len(arr), len(arr[0])\n",
    "    top, bottom, left, right = 0, rows - 1, 0, cols - 1\n",
    "\n",
    "    while top <= bottom and left <= right:\n",
    "        # Traverse top row\n",
    "        for col in range(left, right + 1):\n",
    "            result.append(arr[top][col])\n",
    "        top += 1\n",
    "\n",
    "        # Traverse right column\n",
    "        for row in range(top, bottom + 1):\n",
    "            result.append(arr[row][right])\n",
    "        right -= 1\n",
    "\n",
    "        # Check if all rows haven't been traversed\n",
    "        if top <= bottom:\n",
    "            # Traverse bottom row\n",
    "            for col in range(right, left - 1, -1):\n",
    "                result.append(arr[bottom][col])\n",
    "            bottom -= 1\n",
    "\n",
    "        # Check if all columns haven't been traversed\n",
    "        if left <= right:\n",
    "            # Traverse left column\n",
    "            for row in range(bottom, top - 1, -1):\n",
    "                result.append(arr[row][left])\n",
    "            left += 1\n",
    "\n",
    "    return result\n",
    "\n",
    "# Example usage:\n",
    "array_2d = [\n",
    "    [1, 2, 3],\n",
    "    [4, 5, 6],\n",
    "    [7, 8, 9],\n",
    "]\n",
    "\n",
    "spiral_result = spiral_loop_2d_array(array_2d)\n",
    "print(spiral_result)  # Output: [1, 2, 3, 6, 9, 8, 7, 4, 5]\n"
   ]
  },
  {
   "cell_type": "code",
   "execution_count": null,
   "id": "9a7f9dd1",
   "metadata": {},
   "outputs": [],
   "source": [
    "\n",
    "\n",
    "\n",
    "            "
   ]
  },
  {
   "cell_type": "code",
   "execution_count": 17,
   "id": "1f7150ce",
   "metadata": {},
   "outputs": [
    {
     "name": "stdout",
     "output_type": "stream",
     "text": [
      "[1, 4, 7]\n",
      "[2, 5, 8]\n",
      "[3, 6, 9]\n"
     ]
    }
   ],
   "source": [
    "def transpose_matrix(matrix):\n",
    "    rows = len(matrix)\n",
    "    cols = len(matrix[0])\n",
    "    transposed_matrix = [[0 for _ in range(rows)] for _ in range(cols)]\n",
    "\n",
    "    for i in range(rows):\n",
    "        for j in range(cols):\n",
    "            transposed_matrix[j][i] = matrix[i][j]\n",
    "\n",
    "    return transposed_matrix\n",
    "\n",
    "# Example usage:\n",
    "matrix = [\n",
    "    [1, 2, 3],\n",
    "    [4, 5, 6],\n",
    "    [7, 8, 9],\n",
    "]\n",
    "\n",
    "transposed_matrix = transpose_matrix(matrix)\n",
    "for row in transposed_matrix:\n",
    "    print(row)\n"
   ]
  },
  {
   "cell_type": "code",
   "execution_count": 27,
   "id": "19c8d619",
   "metadata": {},
   "outputs": [
    {
     "name": "stdout",
     "output_type": "stream",
     "text": [
      "33 42 51 \n",
      "69 90 111 \n",
      "112 134 156 \n"
     ]
    }
   ],
   "source": [
    "# multiplication of matrix\n",
    "def multi_matrix(matrix1, matrix2):\n",
    "    row1 = len(matrix1)\n",
    "    col1 = len(matrix1[0])\n",
    "    row2 = len(matrix2)\n",
    "    col2 = len(matrix2[0])\n",
    "    rows = 3\n",
    "    cols = 3\n",
    "    add = 0\n",
    "    multi_matrix = [[0 for _ in range(rows)]for _ in range(cols)]\n",
    "\n",
    "    \n",
    "    for i in range(row1):\n",
    "        for j in range(col2):\n",
    "            add = 0\n",
    "            for k in range(row2):\n",
    "                add += matrix1[i][k]*matrix2[k][j]\n",
    "            multi_matrix[i][j] = add\n",
    "    return multi_matrix\n",
    "            \n",
    "\n",
    "\n",
    "\n",
    "matrix1 = [[2,4,1,2],[8,4,3,6],[1,7,9,5]]\n",
    "matrix2 = [[1, 2, 3],[4, 5, 6],[7, 8, 9], [4,5,6]]\n",
    "\n",
    "multi_matrix = multi_matrix(matrix1, matrix2)\n",
    "for i in range(rows):\n",
    "    for j in range(cols):\n",
    "        print(multi_matrix[i][j], end = \" \")\n",
    "    print()\n",
    "\n"
   ]
  },
  {
   "cell_type": "code",
   "execution_count": null,
   "id": "feee8fcc",
   "metadata": {},
   "outputs": [],
   "source": []
  },
  {
   "cell_type": "code",
   "execution_count": 34,
   "id": "c13bc068",
   "metadata": {},
   "outputs": [
    {
     "name": "stdout",
     "output_type": "stream",
     "text": [
      "True\n"
     ]
    }
   ],
   "source": [
    "# 2D MATRIX SEARCh\n",
    "def search_element(matrix2, sea_ele):\n",
    "    row = len(matrix2)-1\n",
    "    col = len(matrix2[0])-1\n",
    "    m =0\n",
    "    element = matrix2[m][col]\n",
    "   \n",
    "    while 0<row+1 and col>=0: \n",
    "        if element == sea_ele:\n",
    "            return True\n",
    "        if element > sea_ele:\n",
    "            col-=1 \n",
    "            element = matrix2[m][col]\n",
    "        else:\n",
    "            m+=1\n",
    "            element = matrix2[m][col]\n",
    "    \n",
    "    \n",
    "\n",
    "matrix2 = [[1, 4, 7,11],[2,5,8,12],[3,6, 9,16], [10,13,14,17]]\n",
    "sea_ele = 9\n",
    "result = search_element(matrix2, sea_ele)\n",
    "print(result)"
   ]
  },
  {
   "cell_type": "code",
   "execution_count": null,
   "id": "6876d735",
   "metadata": {},
   "outputs": [],
   "source": []
  }
 ],
 "metadata": {
  "kernelspec": {
   "display_name": "Python 3 (ipykernel)",
   "language": "python",
   "name": "python3"
  },
  "language_info": {
   "codemirror_mode": {
    "name": "ipython",
    "version": 3
   },
   "file_extension": ".py",
   "mimetype": "text/x-python",
   "name": "python",
   "nbconvert_exporter": "python",
   "pygments_lexer": "ipython3",
   "version": "3.10.9"
  }
 },
 "nbformat": 4,
 "nbformat_minor": 5
}
